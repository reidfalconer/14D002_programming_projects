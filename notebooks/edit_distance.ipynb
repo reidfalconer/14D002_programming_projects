{
 "cells": [
  {
   "cell_type": "markdown",
   "metadata": {},
   "source": [
    "# Edit distance"
   ]
  },
  {
   "cell_type": "markdown",
   "metadata": {
    "toc": true
   },
   "source": [
    "<h1>Table of Contents<span class=\"tocSkip\"></span></h1>\n",
    "<div class=\"toc\"><ul class=\"toc-item\"><li><span><a href=\"#Task-1\" data-toc-modified-id=\"Task-1-1\">Task 1</a></span></li><li><span><a href=\"#Task-2\" data-toc-modified-id=\"Task-2-2\">Task 2</a></span></li><li><span><a href=\"#Data.\" data-toc-modified-id=\"Data.-3\">Data.</a></span><ul class=\"toc-item\"><li><span><a href=\"#DNA\" data-toc-modified-id=\"DNA-3.1\">DNA</a></span></li><li><span><a href=\"#Proteins\" data-toc-modified-id=\"Proteins-3.2\">Proteins</a></span></li></ul></li></ul></div>"
   ]
  },
  {
   "cell_type": "markdown",
   "metadata": {},
   "source": [
    "Given two strings of text X and Y , there are many ways to measure how much X and Y differ.\n",
    "Consider the following three operations on a string:\n",
    "\n",
    "- D: Deletion of a character.\n",
    "- I: Insertion of a character.\n",
    "- S: Substitution of a character\n",
    "\n",
    "The edit distance $d ( X , Y )$ is the minimum number of operations $\\{ D , I , S \\}$ needed to perform on\n",
    "$X$ to produce $Y .$\n",
    "\n",
    "**Tasks:** \n",
    "\n",
    "1. Design an algorithm that, given strings $X$ and $Y$ , computes the edit distance between $X$ and $Y$ . The algorithm should provide also the optimal sequence of operations transforming $X$ into $Y$.\n",
    "\n",
    "2. Modify the previous algorithm with a penalty function: operations $D$ and $I$ have unit cost $2$, whereas operation $S$ has unit cost $1$."
   ]
  },
  {
   "cell_type": "markdown",
   "metadata": {},
   "source": [
    "## Task 1 "
   ]
  },
  {
   "cell_type": "code",
   "execution_count": 1,
   "metadata": {},
   "outputs": [],
   "source": [
    "# import required package numpy as np and time\n",
    "import numpy as np\n",
    "import time\n",
    "\n",
    "# We define a function `edit` that takes in two string variables (e.g. text X and Y)\n",
    "# as arguments and then returns the edit distance, which is the minimum number of\n",
    "# operations (D; I; S) needed to perform on X to produce Y. Furthermore, the function\n",
    "# also delivers the optimal sequence of operations transforming X into Y.\n",
    "\n",
    "\n",
    "def edit(str1, str2):\n",
    "\n",
    "    # the edit distance is exclusively computed on string variables\n",
    "    if not isinstance(str1, str) or not isinstance(str2, str):\n",
    "        return 'the input is not string'\n",
    "\n",
    "# if the strings are identical, then the edit distance must be zero.\n",
    "    if str1 == str2:\n",
    "        return 0, 'no operation required to transform'\n",
    "\n",
    "# In order to calculate the edit distance, we will be comparing a longer string variable\n",
    "# with a shorter string variable. Therefore, the code chunck below guarantees that the\n",
    "# Y variable will always signify the longer string variable.\n",
    "\n",
    "    x, y = str1, str2\n",
    "    len1, len2 = len(x), len(y)\n",
    "\n",
    "    if len1 > len2:\n",
    "        x, y = y, x\n",
    "        len1, len2 = len2, len1\n",
    "\n",
    "    L = np.zeros(shape=(len1 + 1, len2 + 1))\n",
    "\n",
    "    # To begin we generate a matrix of zeros whose values will be replaced recursively as make\n",
    "    # our way through the rows of the matrix. By construction, there are `len1+1` rows, and `len2+1`\n",
    "    # columns, i.e. the rows describe the characters of the string 1 variable (the shorter string)\n",
    "    # and the columns represent the characters of the string 2 variable (the longer string).\n",
    "\n",
    "    # The row, column index indicates the i'th character in the substring. For example,\n",
    "    # row 3 shows the string made up of the first three characters of the string 1 variable (X), and\n",
    "    # column 2 signifies the string made up of the first two characters of the string 2 variable (Y).\n",
    "\n",
    "    # The edit distance between an empty string (no word) and a string of length n will be n, as n\n",
    "    # is the number of deletions required to get from the string to an empty string. Thus, we can fill\n",
    "    # up the zero-th row and column. Each entry with index (i,j) in the matrix represents the edit distance\n",
    "    # between the string made up of the first i characters of the string 1 variable (X) and the string\n",
    "    # made up of the first j characters of string 2 variable (Y).\n",
    "\n",
    "    L[0, :] = np.linspace(0, len2, len2 + 1)\n",
    "    L[:, 0] = np.linspace(0, len1, len1 + 1)\n",
    "\n",
    "    # This is where we perform the central portion of the code which will help us to calculate the edit\n",
    "    # distance. The edit distance between a string made up of the first i characters of x and the first j\n",
    "    # characters of y (referred to as dist(i,j)) can be computed from the edit distances of the different\n",
    "    # paths it took to get there.\n",
    "\n",
    "    # If the ith character and the jth character are the same, then dist(i,j) = dist(i-1,j-1).\n",
    "    # Therefore, we do not have to perform an operation on either character. However, if they are not\n",
    "    # the same, then we do need to implement a substitution in order to make the ith character of the\n",
    "    # first string equal to the jth character of the second string. In this case, dist(i,j) = dist(i-1,j-1) + 1.\n",
    "    # This is represented by the code line np.where(x[i-1]==y[j-1],0,1)). The other two cases are as follows:\n",
    "    # dist(i,j) = dist(i-1,j) + 1, since the string variable consisting of the first i characters of X can be\n",
    "    # made into the string consisting of the first i-1 characters of X by deleting one character. Similarily,\n",
    "    # for the substring of Y: dist(i,j) = dist(i,j-1) + 1.\n",
    "\n",
    "    # Given that we want to employ the minimum number of operations, we must choose the minimum number of\n",
    "    # these cases, which is highlighted in the equation below. Specifically, the code populates the matrix\n",
    "    # with the edit distances between various substrings of X and Y and therefore obtains the edit distance\n",
    "    # between X and Y in the bottom right corner of the matrix.\n",
    "\n",
    "    for i in range(1, len1 + 1):\n",
    "        for j in range(1, len2 + 1):\n",
    "            L[i, j] = min(\n",
    "                L[i - 1, j] + 1, L[i, j - 1] + 1,\n",
    "                L[i - 1, j - 1] + np.where(x[i - 1] == y[j - 1], 0, 1))\n",
    "\n",
    "# this stores the optimal sequence of operations transforming X into Y\n",
    "    path = []\n",
    "\n",
    "    i = len1\n",
    "    j = len2\n",
    "\n",
    "    # Firstly, we iterate over the longer string variable Y and decide whether to keep, substitute, insert or\n",
    "    # delete a character so that we end up with the smaller one.\n",
    "\n",
    "    # When i=0, there are no options to move diagonally upwards anymore since that is the top row. Therefore,\n",
    "    # no further substitutions will be required considering that a substitution requires a diagonal movement\n",
    "    # upwards and to the left. As we move left across the row, if the edit distance remains the same,\n",
    "    # we keep the character, and if the edit distance decreases from the jth to the j-1th character,\n",
    "    # we delete a character since deletion is implied by a decrease in edit distance.\n",
    "\n",
    "    while (i, j) != (0, 0):\n",
    "        if i == 0:\n",
    "            if j != 0:\n",
    "                if L[i, j - 1] < L[i, j]:\n",
    "                    j = j - 1\n",
    "                    path.append('delete ' + y[j])\n",
    "                else:\n",
    "                    j = j - 1\n",
    "                    path.append('keep')\n",
    "\n",
    "# When dist(i-1,j-1) results in the minimum edit distance, and  x[i] = y[j], then we keep the jth\n",
    "# character of Y.\n",
    "        else:\n",
    "            if L[i - 1, j - 1] + np.where(\n",
    "                    x[i - 1] == y[j - 1], 0,\n",
    "                    1) <= L[i, j - 1] + 1 and L[i - 1, j - 1] + np.where(\n",
    "                        x[i - 1] == y[j - 1], 0, 1) <= L[i - 1, j] + 1:\n",
    "                i = i - 1\n",
    "                j = j - 1\n",
    "                if x[i] == y[j]:\n",
    "                    path.append('keep ' + y[j])\n",
    "\n",
    "# When dist(i-1,j-1) results in the minimum edit distance, and x[i] != y[j], then we substitute\n",
    "# the jth character of Y to fit the ith character of x\n",
    "                else:\n",
    "                    sub = 'substitute ' + y[j] + ' with ' + x[i]\n",
    "                    path.append(sub)\n",
    "\n",
    "# When the dist(i,j-1) results in the minimum edit distance, that means that a deletion of the jth\n",
    "# character of Y is required.\n",
    "            elif L[i, j - 1] < L[i - 1, j] and L[i, j - 1] + 1 < L[\n",
    "                    i - 1, j - 1] + np.where(x[i - 1] == y[j - 1], 0, 1):\n",
    "                j = j - 1\n",
    "                delete = 'delete ' + y[j]\n",
    "                path.append(delete)\n",
    "\n",
    "# When the dist(i-1,j) results in the minimum edit distance, an insertion of the ith character of X is\n",
    "# required.\n",
    "            elif L[i - 1, j] < L[i, j - 1] and L[i - 1, j] + 1 < L[\n",
    "                    i - 1, j - 1] + np.where(x[i - 1] == y[j - 1], 0, 1):\n",
    "                i = i - 1\n",
    "                insert = 'insert ' + x[i]\n",
    "                path.append(insert)\n",
    "\n",
    "\n",
    "# This returns the edit distance between X and Y along with the optimal sequence of operations\n",
    "# transforming X into Y .\n",
    "\n",
    "    return L[len1, len2], path"
   ]
  },
  {
   "cell_type": "code",
   "execution_count": 2,
   "metadata": {},
   "outputs": [
    {
     "data": {
      "text/plain": [
       "(5.0,\n",
       " ['substitute n with d',\n",
       "  'substitute y with i',\n",
       "  'delete l',\n",
       "  'keep e',\n",
       "  'substitute v with r',\n",
       "  'delete e'])"
      ]
     },
     "execution_count": 2,
     "metadata": {},
     "output_type": "execute_result"
    }
   ],
   "source": [
    "edit('reid','evelyn')"
   ]
  },
  {
   "cell_type": "code",
   "execution_count": 3,
   "metadata": {},
   "outputs": [
    {
     "data": {
      "text/plain": [
       "(6.0,\n",
       " ['substitute n with i',\n",
       "  'substitute y with r',\n",
       "  'substitute l with a',\n",
       "  'delete e',\n",
       "  'delete v',\n",
       "  'delete e'])"
      ]
     },
     "execution_count": 3,
     "metadata": {},
     "output_type": "execute_result"
    }
   ],
   "source": [
    "edit('evelyn','ari')"
   ]
  },
  {
   "cell_type": "markdown",
   "metadata": {},
   "source": [
    "## Task 2"
   ]
  },
  {
   "cell_type": "code",
   "execution_count": 4,
   "metadata": {},
   "outputs": [],
   "source": [
    "def edit_penalty(str1, str2):\n",
    "\n",
    "    # We retain most of the code used in defining our edit function above. However, we modify the  algorithm\n",
    "    # with a penalty function: operations `D` and `I` now get a unit cost of 2, whereas operation `S` now\n",
    "    # get a unit cost 1.\n",
    "\n",
    "    x, y = str1, str2\n",
    "    len1, len2 = len(x), len(y)\n",
    "\n",
    "    if len1 > len2:\n",
    "        x, y = y, x\n",
    "        len1, len2 = len2, len1\n",
    "\n",
    "    L = np.zeros(shape=(len1 + 1, len2 + 1))\n",
    "\n",
    "    # Therefore, we increase the number of operations by a mutiple of 2 for dist(0,j) and dist(i,0) so that\n",
    "    # the edit distance is 2*j or 2*i as opposed to just j or i (i.e. 1*j or 1*i).\n",
    "\n",
    "    L[0, :] = np.linspace(0, 2 * len2, len2 + 1)\n",
    "    L[:, 0] = np.linspace(0, 2 * len1, len1 + 1)\n",
    "\n",
    "    # Furthermore, now for dist(i-1,j) and dist(i,j-1), instead of only adding one, we add two since the\n",
    "    # operation cost is doubled.\n",
    "\n",
    "    for i in range(1, len1 + 1):\n",
    "        for j in range(1, len2 + 1):\n",
    "            L[i, j] = min(\n",
    "                L[i - 1, j] + 2, L[i, j - 1] + 2,\n",
    "                L[i - 1, j - 1] + np.where(x[i - 1] == y[j - 1], 0, 1))\n",
    "\n",
    "\n",
    "# Nevertheless, the algorithm works in the same way given tha the penalty only changes the edit distance\n",
    "# values and not the optimal sequence search.\n",
    "\n",
    "    path = []\n",
    "\n",
    "    i = len1\n",
    "    j = len2\n",
    "\n",
    "    while (i, j) != (0, 0):\n",
    "        if i == 0:\n",
    "            if j != 0:\n",
    "                if L[i, j - 1] < L[i, j]:\n",
    "                    j = j - 1\n",
    "                    path.append('delete ' + y[j])\n",
    "                else:\n",
    "                    j = j - 1\n",
    "                    path.append('keep ' + y[j])\n",
    "\n",
    "        else:\n",
    "            if L[i - 1, j - 1] + np.where(\n",
    "                    x[i - 1] == y[j - 1], 0,\n",
    "                    1) <= L[i, j - 1] + 1 and L[i - 1, j - 1] + np.where(\n",
    "                        x[i - 1] == y[j - 1], 0, 1) <= L[i - 1, j] + 1:\n",
    "                i = i - 1\n",
    "                j = j - 1\n",
    "                if x[i] == y[j]:\n",
    "                    path.append('keep ' + y[j])\n",
    "\n",
    "                else:\n",
    "                    sub = 'substitute ' + y[j] + ' with ' + x[i]\n",
    "                    path.append(sub)\n",
    "\n",
    "            elif L[i, j - 1] < L[i - 1, j] and L[i, j - 1] + 1 < L[\n",
    "                    i - 1, j - 1] + np.where(x[i - 1] == y[j - 1], 0, 1):\n",
    "                j = j - 1\n",
    "                delete = 'delete ' + y[j]\n",
    "                path.append(delete)\n",
    "\n",
    "            elif L[i - 1, j] < L[i, j - 1] and L[i - 1, j] + 1 < L[\n",
    "                    i - 1, j - 1] + np.where(x[i - 1] == y[j - 1], 0, 1):\n",
    "                i = i - 1\n",
    "                ins = 'insert ' + x[i]\n",
    "                path.append(ins)\n",
    "\n",
    "    return L[len1, len2], path"
   ]
  },
  {
   "cell_type": "markdown",
   "metadata": {},
   "source": [
    "## Data. \n",
    "\n",
    "We now run both of our algorithms on the following pairs of input strings and report the edit distance along with the optimal sequence of operations."
   ]
  },
  {
   "cell_type": "markdown",
   "metadata": {},
   "source": [
    "### DNA"
   ]
  },
  {
   "cell_type": "code",
   "execution_count": 5,
   "metadata": {},
   "outputs": [],
   "source": [
    "DNA_X = 'ACTACTAGATTACTTACGGATCAGGTACTTTAGAGGCTTGCAACCA'\n",
    "DNA_Y = 'TACTAGCTTACTTACCCATCAGGTTTTAGAGATGGCAACCA'"
   ]
  },
  {
   "cell_type": "code",
   "execution_count": 6,
   "metadata": {},
   "outputs": [
    {
     "name": "stdout",
     "output_type": "stream",
     "text": [
      "CPU times: user 6.67 ms, sys: 152 µs, total: 6.82 ms\n",
      "Wall time: 6.71 ms\n"
     ]
    },
    {
     "data": {
      "text/plain": [
       "(10.0,\n",
       " ['keep A',\n",
       "  'keep C',\n",
       "  'keep C',\n",
       "  'keep A',\n",
       "  'keep A',\n",
       "  'keep C',\n",
       "  'keep G',\n",
       "  'substitute T with G',\n",
       "  'keep T',\n",
       "  'substitute C with A',\n",
       "  'keep G',\n",
       "  'delete G',\n",
       "  'keep A',\n",
       "  'keep G',\n",
       "  'keep A',\n",
       "  'keep T',\n",
       "  'keep T',\n",
       "  'keep T',\n",
       "  'delete C',\n",
       "  'delete A',\n",
       "  'keep T',\n",
       "  'keep G',\n",
       "  'keep G',\n",
       "  'keep A',\n",
       "  'keep C',\n",
       "  'keep T',\n",
       "  'keep A',\n",
       "  'substitute G with C',\n",
       "  'substitute G with C',\n",
       "  'keep C',\n",
       "  'keep A',\n",
       "  'keep T',\n",
       "  'keep T',\n",
       "  'keep C',\n",
       "  'keep A',\n",
       "  'keep T',\n",
       "  'keep T',\n",
       "  'substitute A with C',\n",
       "  'keep G',\n",
       "  'keep A',\n",
       "  'keep T',\n",
       "  'keep C',\n",
       "  'keep A',\n",
       "  'keep T',\n",
       "  'delete C',\n",
       "  'delete A'])"
      ]
     },
     "execution_count": 6,
     "metadata": {},
     "output_type": "execute_result"
    }
   ],
   "source": [
    "%%time\n",
    "edit(DNA_X,DNA_Y)"
   ]
  },
  {
   "cell_type": "code",
   "execution_count": 7,
   "metadata": {},
   "outputs": [
    {
     "name": "stdout",
     "output_type": "stream",
     "text": [
      "CPU times: user 9.74 ms, sys: 466 µs, total: 10.2 ms\n",
      "Wall time: 9.87 ms\n"
     ]
    },
    {
     "data": {
      "text/plain": [
       "(15.0,\n",
       " ['keep A',\n",
       "  'keep C',\n",
       "  'keep C',\n",
       "  'keep A',\n",
       "  'keep A',\n",
       "  'keep C',\n",
       "  'keep G',\n",
       "  'substitute T with G',\n",
       "  'keep T',\n",
       "  'delete C',\n",
       "  'substitute G with A',\n",
       "  'keep G',\n",
       "  'keep A',\n",
       "  'keep G',\n",
       "  'keep A',\n",
       "  'keep T',\n",
       "  'keep T',\n",
       "  'keep T',\n",
       "  'delete C',\n",
       "  'delete A',\n",
       "  'keep T',\n",
       "  'keep G',\n",
       "  'keep G',\n",
       "  'keep A',\n",
       "  'keep C',\n",
       "  'keep T',\n",
       "  'keep A',\n",
       "  'substitute G with C',\n",
       "  'substitute G with C',\n",
       "  'keep C',\n",
       "  'keep A',\n",
       "  'keep T',\n",
       "  'keep T',\n",
       "  'keep C',\n",
       "  'keep A',\n",
       "  'keep T',\n",
       "  'keep T',\n",
       "  'substitute A with C',\n",
       "  'keep G',\n",
       "  'keep A',\n",
       "  'keep T',\n",
       "  'keep C',\n",
       "  'keep A',\n",
       "  'keep T',\n",
       "  'delete C',\n",
       "  'delete A'])"
      ]
     },
     "execution_count": 7,
     "metadata": {},
     "output_type": "execute_result"
    }
   ],
   "source": [
    "%%time\n",
    "edit_penalty(DNA_X, DNA_Y)"
   ]
  },
  {
   "cell_type": "markdown",
   "metadata": {},
   "source": [
    "### Proteins"
   ]
  },
  {
   "cell_type": "code",
   "execution_count": 8,
   "metadata": {},
   "outputs": [],
   "source": [
    "PRO_X = 'AASRPRSGVPAQSDSDPCQNLAATPIPSRPPSSQSCQKCRADARQGRWGP'\n",
    "PRO_Y = 'SGAPGQRGEPGPQGHAGAPGPPGPPGSDG'"
   ]
  },
  {
   "cell_type": "code",
   "execution_count": 9,
   "metadata": {},
   "outputs": [
    {
     "name": "stdout",
     "output_type": "stream",
     "text": [
      "CPU times: user 5.91 ms, sys: 93 µs, total: 6.01 ms\n",
      "Wall time: 5.95 ms\n"
     ]
    },
    {
     "data": {
      "text/plain": [
       "(37.0,\n",
       " ['delete P',\n",
       "  'keep G',\n",
       "  'delete W',\n",
       "  'delete R',\n",
       "  'delete G',\n",
       "  'delete Q',\n",
       "  'delete R',\n",
       "  'delete A',\n",
       "  'keep D',\n",
       "  'delete A',\n",
       "  'delete R',\n",
       "  'delete C',\n",
       "  'delete K',\n",
       "  'delete Q',\n",
       "  'delete C',\n",
       "  'keep S',\n",
       "  'substitute Q with G',\n",
       "  'delete S',\n",
       "  'delete S',\n",
       "  'keep P',\n",
       "  'keep P',\n",
       "  'substitute R with G',\n",
       "  'substitute S with P',\n",
       "  'keep P',\n",
       "  'substitute I with G',\n",
       "  'keep P',\n",
       "  'substitute T with A',\n",
       "  'substitute A with G',\n",
       "  'keep A',\n",
       "  'substitute L with H',\n",
       "  'substitute N with G',\n",
       "  'keep Q',\n",
       "  'substitute C with P',\n",
       "  'substitute P with G',\n",
       "  'substitute D with P',\n",
       "  'substitute S with E',\n",
       "  'substitute D with G',\n",
       "  'substitute S with R',\n",
       "  'keep Q',\n",
       "  'substitute A with G',\n",
       "  'keep P',\n",
       "  'substitute V with A',\n",
       "  'keep G',\n",
       "  'keep S',\n",
       "  'delete R',\n",
       "  'delete P',\n",
       "  'delete R',\n",
       "  'delete S',\n",
       "  'delete A',\n",
       "  'delete A'])"
      ]
     },
     "execution_count": 9,
     "metadata": {},
     "output_type": "execute_result"
    }
   ],
   "source": [
    "%%time\n",
    "edit(PRO_X,PRO_Y)"
   ]
  },
  {
   "cell_type": "code",
   "execution_count": 10,
   "metadata": {},
   "outputs": [
    {
     "name": "stdout",
     "output_type": "stream",
     "text": [
      "CPU times: user 10.9 ms, sys: 599 µs, total: 11.5 ms\n",
      "Wall time: 11.3 ms\n"
     ]
    },
    {
     "data": {
      "text/plain": [
       "(58.0,\n",
       " ['delete P',\n",
       "  'delete G',\n",
       "  'delete W',\n",
       "  'delete R',\n",
       "  'keep G',\n",
       "  'delete Q',\n",
       "  'delete R',\n",
       "  'delete A',\n",
       "  'keep D',\n",
       "  'delete A',\n",
       "  'delete R',\n",
       "  'delete C',\n",
       "  'delete K',\n",
       "  'delete Q',\n",
       "  'delete C',\n",
       "  'delete S',\n",
       "  'delete Q',\n",
       "  'keep S',\n",
       "  'substitute S with G',\n",
       "  'keep P',\n",
       "  'keep P',\n",
       "  'substitute R with G',\n",
       "  'substitute S with P',\n",
       "  'keep P',\n",
       "  'substitute I with G',\n",
       "  'keep P',\n",
       "  'substitute T with A',\n",
       "  'substitute A with G',\n",
       "  'keep A',\n",
       "  'substitute L with H',\n",
       "  'substitute N with G',\n",
       "  'keep Q',\n",
       "  'substitute C with P',\n",
       "  'substitute P with G',\n",
       "  'substitute D with P',\n",
       "  'substitute S with E',\n",
       "  'substitute D with G',\n",
       "  'substitute S with R',\n",
       "  'keep Q',\n",
       "  'substitute A with G',\n",
       "  'keep P',\n",
       "  'substitute V with A',\n",
       "  'keep G',\n",
       "  'delete S',\n",
       "  'delete R',\n",
       "  'delete P',\n",
       "  'delete R',\n",
       "  'keep S',\n",
       "  'delete A',\n",
       "  'delete A'])"
      ]
     },
     "execution_count": 10,
     "metadata": {},
     "output_type": "execute_result"
    }
   ],
   "source": [
    "%%time\n",
    "edit_penalty(PRO_X, PRO_Y)"
   ]
  },
  {
   "cell_type": "markdown",
   "metadata": {},
   "source": [
    "**END**"
   ]
  }
 ],
 "metadata": {
  "kernelspec": {
   "display_name": "Python 3",
   "language": "python",
   "name": "python3"
  },
  "language_info": {
   "codemirror_mode": {
    "name": "ipython",
    "version": 3
   },
   "file_extension": ".py",
   "mimetype": "text/x-python",
   "name": "python",
   "nbconvert_exporter": "python",
   "pygments_lexer": "ipython3",
   "version": "3.6.5"
  },
  "toc": {
   "base_numbering": 1,
   "nav_menu": {},
   "number_sections": false,
   "sideBar": true,
   "skip_h1_title": true,
   "title_cell": "Table of Contents",
   "title_sidebar": "Contents",
   "toc_cell": true,
   "toc_position": {},
   "toc_section_display": true,
   "toc_window_display": true
  },
  "varInspector": {
   "cols": {
    "lenName": 16,
    "lenType": 16,
    "lenVar": 40
   },
   "kernels_config": {
    "python": {
     "delete_cmd_postfix": "",
     "delete_cmd_prefix": "del ",
     "library": "var_list.py",
     "varRefreshCmd": "print(var_dic_list())"
    },
    "r": {
     "delete_cmd_postfix": ") ",
     "delete_cmd_prefix": "rm(",
     "library": "var_list.r",
     "varRefreshCmd": "cat(var_dic_list()) "
    }
   },
   "types_to_exclude": [
    "module",
    "function",
    "builtin_function_or_method",
    "instance",
    "_Feature"
   ],
   "window_display": false
  }
 },
 "nbformat": 4,
 "nbformat_minor": 2
}
