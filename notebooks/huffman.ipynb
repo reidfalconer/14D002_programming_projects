{
 "cells": [
  {
   "cell_type": "markdown",
   "metadata": {},
   "source": [
    "# Huffman codes"
   ]
  },
  {
   "cell_type": "markdown",
   "metadata": {
    "toc": true
   },
   "source": [
    "<h1>Table of Contents<span class=\"tocSkip\"></span></h1>\n",
    "<div class=\"toc\"><ul class=\"toc-item\"><li><span><a href=\"#Task-1\" data-toc-modified-id=\"Task-1-1\">Task 1</a></span></li><li><span><a href=\"#Task-2\" data-toc-modified-id=\"Task-2-2\">Task 2</a></span></li><li><span><a href=\"#Data\" data-toc-modified-id=\"Data-3\">Data</a></span><ul class=\"toc-item\"><li><span><a href=\"#Hamlet\" data-toc-modified-id=\"Hamlet-3.1\">Hamlet</a></span></li><li><span><a href=\"#Goethe\" data-toc-modified-id=\"Goethe-3.2\">Goethe</a></span></li></ul></li></ul></div>"
   ]
  },
  {
   "cell_type": "markdown",
   "metadata": {},
   "source": [
    "Given an alphabet $A$, a *code* replaces each letter $x$ of $A$ by a variable-length binary string $c(x)$.\n",
    "A code is a *prefix code* if for distinct letters $x$ and $y$ in $A$, the string $c(x)$ is not a prefix of $c(y)$.\n",
    "A prefix code can be decoded unambiguously scanning the encoded message from left to right.\n",
    "Given a text $T$, let $f_x$ be the frequency of letter $x$ in $T$. The average number of bits required\n",
    "per letter is the quantity\n",
    "\n",
    "$C = \\sum _{ x \\in A } f _ { x } | c ( x ) |$\n",
    "\n",
    "where $| c ( x ) |$ is the length of the string $c(x)$. A prefix code is optimal if $C$ is minimal among all\n",
    "prefix codes.\n",
    "\n",
    "**Tasks:** \n",
    "\n",
    "1. Design an algorithm that, given an input text $T$, constructs an optimal prefix code for $T$.\n",
    "The *size* of the input is the number of characters in $T$.\n",
    "\n",
    "2. Design an algorithm that, given a prefix code for a text $T$, outputs T."
   ]
  },
  {
   "cell_type": "markdown",
   "metadata": {},
   "source": [
    "## Task 1 \n",
    "- Design an algorithm that, given an input text $T$, constructs an optimal prefix code for $T$.\n",
    "The *size* of the input is the number of characters in $T$."
   ]
  },
  {
   "cell_type": "code",
   "execution_count": 1,
   "metadata": {},
   "outputs": [],
   "source": [
    "# import required package deque from collections and time\n",
    "\n",
    "from collections import deque\n",
    "import time\n",
    "\n",
    "# Define a class `Tree`\n",
    "class Tree:\n",
    "    def __init__(self, freq, char = None, left=None, right=None):\n",
    "        self.char = char\n",
    "        self.freq = freq\n",
    "        self.left  = left\n",
    "        self.right = right\n",
    "        \n",
    "# The alpha_count function is a fucntion that counts the number of letters in text and\n",
    "# returns a list of leaf nodes corresponding to each letter in the text that has to be coded.\n",
    "def alpha_count(text):\n",
    "    alpha = set(text)\n",
    "    count = [(char, text.count(char)) for char in alpha]\n",
    "    count = sorted(count, key=lambda x:x[1])\n",
    "    return [Tree(f, char) for char,f in count]\n",
    "\n",
    "# The huffman_tree function creates a Huffman tree from a given text.\n",
    "# Specifically, the function Huffman_Tree is a greedy algorithm that creates a parent node \n",
    "# for the two least likely nodes in the sorted list of nodes\n",
    "def huffman_tree(T):\n",
    "    while len(T)>1:\n",
    "        left, right = T[:2]\n",
    "        frequency = left.freq + right.freq\n",
    "        T = T[2:]\n",
    "        T.append(Tree(frequency, left = left, right = right))\n",
    "        T.sort(key=lambda x: x.freq)\n",
    "    return T[0]\n",
    "\n",
    "# The huffman_code generates the 'encoding' for a text. It uses breadth first search (BFS) \n",
    "# to assign a code to each node of the Huffman Tree\n",
    "def huffman_code(text):\n",
    "    T = alpha_count(text)\n",
    "    T = [(huffman_tree(T),'')]\n",
    "    for node, enc in T:\n",
    "        if node.left:\n",
    "            T.append((node.left, enc + '0'))\n",
    "        if node.right:\n",
    "            T.append((node.right, enc + '1'))\n",
    "    return [(enc, node.char) for node, enc in T if node.char]\n",
    "\n",
    "# Next we define huffman_encode to encode the text in binary. This takes a given encoding \n",
    "# and the text and subsequently looks up the encoding for each letter, and returns the \n",
    "# resulting encoded text\n",
    "def huffman_encode(encoding, text):\n",
    "    code = {letter:coding for coding,letter in encoding}\n",
    "    return ''.join(code[letter] for letter in text)"
   ]
  },
  {
   "cell_type": "code",
   "execution_count": 2,
   "metadata": {},
   "outputs": [
    {
     "data": {
      "text/plain": [
       "[('000', 'a'),\n",
       " ('001', 'i'),\n",
       " ('010', 'd'),\n",
       " ('101', 'e'),\n",
       " ('110', ' '),\n",
       " ('0110', 'y'),\n",
       " ('0111', 'v'),\n",
       " ('1000', ','),\n",
       " ('1001', 'l'),\n",
       " ('1110', 'n'),\n",
       " ('1111', 'r')]"
      ]
     },
     "execution_count": 2,
     "metadata": {},
     "output_type": "execute_result"
    }
   ],
   "source": [
    "huffman_code(\"reid, ari and evelyn\")"
   ]
  },
  {
   "cell_type": "code",
   "execution_count": 3,
   "metadata": {},
   "outputs": [
    {
     "data": {
      "text/plain": [
       "'11111010010101000110000111100111000011100101101010111101100101101110'"
      ]
     },
     "execution_count": 3,
     "metadata": {},
     "output_type": "execute_result"
    }
   ],
   "source": [
    "huffman_encode(huffman_code(\"reid, ari and evelyn\"),\"reid, ari and evelyn\")"
   ]
  },
  {
   "cell_type": "markdown",
   "metadata": {},
   "source": [
    "## Task 2\n",
    "- Design an algorithm that, given a prefix code for a text $T$, outputs T."
   ]
  },
  {
   "cell_type": "code",
   "execution_count": 6,
   "metadata": {},
   "outputs": [],
   "source": [
    "# The huffman_decode function decodes an encoded string with a given encoding.\n",
    "def huffman_decode(encoding, text):\n",
    "    code = {coding:letter for coding, letter in encoding}\n",
    "    codewords = dict.keys(code)\n",
    "    length = len(min(codewords, key=len))\n",
    "    T =''\n",
    "    i = length\n",
    "    while len(text) > 0:\n",
    "        try:\n",
    "            T = T + code[text[0:i]]\n",
    "            text = text[i:]\n",
    "            i = length\n",
    "        except KeyError:\n",
    "            i = i+1\n",
    "    return T"
   ]
  },
  {
   "cell_type": "code",
   "execution_count": 7,
   "metadata": {},
   "outputs": [
    {
     "data": {
      "text/plain": [
       "'reid, ari and evelyn'"
      ]
     },
     "execution_count": 7,
     "metadata": {},
     "output_type": "execute_result"
    }
   ],
   "source": [
    "huffman_decode(huffman_code(\"reid, ari and evelyn\"),huffman_encode(huffman_code(\"reid, ari and evelyn\"),\"reid, ari and evelyn\"))"
   ]
  },
  {
   "cell_type": "markdown",
   "metadata": {},
   "source": [
    "## Data\n",
    "\n",
    "We now run our algorithms on the following text to produce an optimal prefix code. Blanks, dots, questions marks, etc. are part of the alphabet. Upper and lower cases are considered the same letter. Write explicitly as a table the encoding function $c(x)$."
   ]
  },
  {
   "cell_type": "markdown",
   "metadata": {},
   "source": [
    "### Hamlet"
   ]
  },
  {
   "cell_type": "code",
   "execution_count": 8,
   "metadata": {},
   "outputs": [],
   "source": [
    "# use `lower()` to convert all the text to lower case\n",
    "Hamlet = u'O all you host of heaven! O earth! What else? And shall I couple hell? Oh, fie! Hold, hold, my heart, And you, my sinews, grow not instant old, But bear me stiffly up. Remember thee! Ay, thou poor ghost, whiles memory holds a seat In this distracted globe. Remember thee! Yea, from the table of my memory I’ll wipe away all trivial fond records, All saws of books, all forms, all pressures past That youth and observation copied there, And thy commandment all alone shall live Within the book and volume of my brain, Unmixed with baser matter. Yes, by heaven! O most pernicious woman! O villain, villain, smiling, damned villain! My tables! Meet it is I set it down That one may smile, and smile, and be a  villain. At least I’m sure it may be so in Denmark. So, uncle, there you are. Now to my word.'.lower()"
   ]
  },
  {
   "cell_type": "code",
   "execution_count": 9,
   "metadata": {},
   "outputs": [
    {
     "name": "stdout",
     "output_type": "stream",
     "text": [
      "CPU times: user 237 µs, sys: 0 ns, total: 237 µs\n",
      "Wall time: 259 µs\n"
     ]
    },
    {
     "data": {
      "text/plain": [
       "[('00', ' '),\n",
       " ('0101', 'i'),\n",
       " ('0110', 't'),\n",
       " ('1000', 'l'),\n",
       " ('1001', 'o'),\n",
       " ('1011', 'a'),\n",
       " ('1110', 'e'),\n",
       " ('01001', 'y'),\n",
       " ('01110', ','),\n",
       " ('01111', 'd'),\n",
       " ('11000', 'h'),\n",
       " ('11001', 'r'),\n",
       " ('11011', 'm'),\n",
       " ('11110', 'n'),\n",
       " ('11111', 's'),\n",
       " ('010000', 'v'),\n",
       " ('010001', 'f'),\n",
       " ('101001', 'w'),\n",
       " ('101010', 'u'),\n",
       " ('110100', 'b'),\n",
       " ('1010001', '.'),\n",
       " ('1010110', 'c'),\n",
       " ('1101010', 'p'),\n",
       " ('1101011', '!'),\n",
       " ('10100000', '?'),\n",
       " ('10100001', 'k'),\n",
       " ('10101111', 'g'),\n",
       " ('101011100', 'x'),\n",
       " ('101011101', '’')]"
      ]
     },
     "execution_count": 9,
     "metadata": {},
     "output_type": "execute_result"
    }
   ],
   "source": [
    "%%time\n",
    "huffman_code(Hamlet)"
   ]
  },
  {
   "cell_type": "code",
   "execution_count": 10,
   "metadata": {},
   "outputs": [
    {
     "name": "stdout",
     "output_type": "stream",
     "text": [
      "CPU times: user 647 µs, sys: 1e+03 ns, total: 648 µs\n",
      "Wall time: 658 µs\n"
     ]
    },
    {
     "data": {
      "text/plain": [
       "'100100101110001000000100110011010100011000100111111011000100101000100110001110101101000011101111011010110010010011101011110010110110001101011001010011100010110110001110100011111111010100000001011111100111100111111100010111000100000010100101011010011010101101010100011100011000111010001000101000000010011100001110000100010101111011010110011000100110000111101110001100010011000011110111000110110100100110001110101111001011001110001011111100111100010011001101010011100011011010010011111010111110111010100111111011100010101111110011001101001001111010010110000101111101111101101011111100110001001100001111011100011010010101001100011010011101011110010011011111000111110110010101000101000110000100100101010110101010100010011001111011011111011011110100111011001000110110001110111011010110010110100101110000110110001001101010001101010100110011100100101011111100010011111101100111000101001110000101100011101111100110111110110111001110010100100110001001100001111111110010110011111111010110110000101111100001101100001011111100011110101111110110110011011101011001101110011110010101111100010011101001110101000100110011110110111110110111101001110110010001101100011101110110101100010011110101101110000100011100110011101100011011000111000011010111101001000111000100101000100110110100100110111110110111001110010100100010110101110110001000001010010101110101011100010111010011011010010010111000100000011011001010101000001011011100000010001100111110011110011001111010101101001110010111111111011100010111000100000111111011101001111110010010100010011010010011001101000011111101110001011100010000001000110011100111011111110111000101110001000001101010110011110111111111110101011001111011111001101010101111111011000011011000101101100001001100110101001101100000101111110011110010011101001111111101100101000010110110010110011111000101011010011101010010111100111100011011000111011001111001110001011111100111100011011000010010010101101001110111101110111111001111110111110111100110001011100010000010111000100111110111000111111100010111000100000100001010100001110001010010101011011000010111110000110110001110001101001001100110100001001011111100111100010000100110001010101101111100010010100010011011010010011010011001101101011111001110001010101111011011010110101110011100111100101001010101101100000110100101111111111011001001101110110110011011101100110100010001001111011111011100011010001001001100011101011010000111011110110101100100100110111001111110110001101010111011001111100101101011001011001101010111110010100110011101110111111011010110010010001000001011000100010110101111100111000010000010110001000101101011111001110001111111011010110000101111101010111101110000111110111101111110111001111000100000101100010001011010111110110101100110110100100011010111101001000111011111110101100110111110111001100001010110000101111110001010011111111001100001010110000111110011010011111000011011000101101100010011111011100011011101101001001111111011010110001110011100010111111001111001111111011010110001110011100010111111001111001101001110001011000001000001011000100010110101111101010001001011011000100011101011111110110000101101011101110110011111101010110011110000101011000110111011010010011010011100011111100100010111110000111111101111011011101111001101000011010001001111110010111000101010111101010110100011100111000011011000111011001111000010011001101010001011110011110101000100111101001101001000110100100110110100100101001100111001011111010001'"
      ]
     },
     "execution_count": 10,
     "metadata": {},
     "output_type": "execute_result"
    }
   ],
   "source": [
    "%%time\n",
    "huffman_encode(huffman_code(Hamlet),Hamlet)"
   ]
  },
  {
   "cell_type": "code",
   "execution_count": 11,
   "metadata": {},
   "outputs": [
    {
     "name": "stdout",
     "output_type": "stream",
     "text": [
      "CPU times: user 2.69 ms, sys: 6 µs, total: 2.7 ms\n",
      "Wall time: 2.7 ms\n"
     ]
    },
    {
     "data": {
      "text/plain": [
       "'o all you host of heaven! o earth! what else? and shall i couple hell? oh, fie! hold, hold, my heart, and you, my sinews, grow not instant old, but bear me stiffly up. remember thee! ay, thou poor ghost, whiles memory holds a seat in this distracted globe. remember thee! yea, from the table of my memory i’ll wipe away all trivial fond records, all saws of books, all forms, all pressures past that youth and observation copied there, and thy commandment all alone shall live within the book and volume of my brain, unmixed with baser matter. yes, by heaven! o most pernicious woman! o villain, villain, smiling, damned villain! my tables! meet it is i set it down that one may smile, and smile, and be a  villain. at least i’m sure it may be so in denmark. so, uncle, there you are. now to my word.'"
      ]
     },
     "execution_count": 11,
     "metadata": {},
     "output_type": "execute_result"
    }
   ],
   "source": [
    "%%time\n",
    "huffman_decode(huffman_code(Hamlet),huffman_encode(huffman_code(Hamlet),Hamlet))"
   ]
  },
  {
   "cell_type": "markdown",
   "metadata": {},
   "source": [
    "### Goethe "
   ]
  },
  {
   "cell_type": "code",
   "execution_count": 12,
   "metadata": {},
   "outputs": [],
   "source": [
    "# use `lower()` to convert all the text to lower case\n",
    "Goethe = u'Habe nun, ach! Philosophie, Juristerei und Medizin, Und leider auch Theologie Durchaus studiert, mit heissem Bemühn. Da steh ich nun, ich armer Tor! Und bin so klug als wie zuvor; Heisse Magister, heisse Doktor gar Und ziehe schon an die zehen Jahr Herauf, herab und quer und krumm Meine Schüler an der Nase herum Und sehe, dass wir nichts wissen können! Das will mir schier das Herz verbrennen. Zwar bin ich gescheiter als all die Laffen, Doktoren, Magister, Schreiber und Pfaffen; Mich plagen keine Skrupel noch Zweifel, Fürchte mich weder vor Hölle noch Teufel Dafür ist mir auch alle Freud entrissen, Bilde mir nicht ein, was Rechts zu wissen, Bilde mir nicht ein, ich könnte was lehren, Die Menschen zu bessern und zu bekehren. Auch hab ich weder Gut noch Geld, Noch Ehr und Herrlichkeit der Welt; Es möchte kein Hund so länger leben! Drum hab ich mich der Magie ergeben, Ob mir durch Geistes Kraft und Mund Nicht manch Geheimnis würde kund; Dass ich nicht mehr mit saurem Schweiss Zu sagen brauche, was ich nicht weiss; Dass ich erkenne, was die Welt Im Innersten zusammenhält, Schau alle Wirkenskraft und Samen, Und tu nicht mehr in Worten kramen.'.lower()"
   ]
  },
  {
   "cell_type": "code",
   "execution_count": 13,
   "metadata": {},
   "outputs": [
    {
     "name": "stdout",
     "output_type": "stream",
     "text": [
      "CPU times: user 360 µs, sys: 1e+03 ns, total: 361 µs\n",
      "Wall time: 367 µs\n"
     ]
    },
    {
     "data": {
      "text/plain": [
       "[('010', 'e'),\n",
       " ('111', ' '),\n",
       " ('0000', 'u'),\n",
       " ('0001', 'a'),\n",
       " ('0011', 's'),\n",
       " ('0111', 'r'),\n",
       " ('1000', 'h'),\n",
       " ('1010', 'i'),\n",
       " ('1011', 'n'),\n",
       " ('01100', 'l'),\n",
       " ('10010', 'm'),\n",
       " ('10011', 't'),\n",
       " ('11001', 'c'),\n",
       " ('11011', 'd'),\n",
       " ('001000', 'z'),\n",
       " ('001001', 'f'),\n",
       " ('001010', 'g'),\n",
       " ('011010', 'k'),\n",
       " ('011011', 'b'),\n",
       " ('110000', 'o'),\n",
       " ('110001', 'w'),\n",
       " ('110101', ','),\n",
       " ('00101101', '!'),\n",
       " ('00101110', '.'),\n",
       " ('00101111', 'ö'),\n",
       " ('11010000', ';'),\n",
       " ('11010001', 'ü'),\n",
       " ('11010010', 'p'),\n",
       " ('001011000', 'q'),\n",
       " ('001011001', 'ä'),\n",
       " ('110100110', 'j'),\n",
       " ('110100111', 'v')]"
      ]
     },
     "execution_count": 13,
     "metadata": {},
     "output_type": "execute_result"
    }
   ],
   "source": [
    "%%time\n",
    "huffman_code(Goethe)"
   ]
  },
  {
   "cell_type": "code",
   "execution_count": 14,
   "metadata": {},
   "outputs": [
    {
     "name": "stdout",
     "output_type": "stream",
     "text": [
      "CPU times: user 675 µs, sys: 1e+03 ns, total: 676 µs\n",
      "Wall time: 684 µs\n"
     ]
    },
    {
     "data": {
      "text/plain": [
       "'1000000101101101011110110000101111010111100011100110000010110111111010010100010100110011000000111100001101001010001010010110101111110100110000001111010001110011010011101010101110000101111011111100100101101110100010001010101111010111100001011110111110110001010101101101001111110001000011001100011110011100001011000001100110000001010101001011111011000001111100110000001000000111110011100110000110111010010011110011110101111100101010100111111000010101000110011010100101110110110101001011010001100010110010111011111011000111100111001101010001111010110011000111101100001011110101111101011001100011100010111100100100111111100111100000111001011011110000101111011111011011101010111110011110000111011010011000000001010111000101100001111111000110100101110010000000110100111110000011111010000111100001010100011001101011110010000100101010100011100110100111110101111100001010100011001101011111011110000011010100111100000111111001010000101111110000101111011111001000101001010000101110011110011000110000101111100011011111110111010010111001000010100001010111111101001100001100001111111000010011100010000001001110101111100001001110001011011111000010111101111100101100000000100111111000010111101111101101001110000100101001011110010010101010110101110011110011000110100010110001001111110001101111111011010011111110110001001101011110000100111000010010111000010111101111100110101000010110101111110110001001100111111100011010011111110111010110011000100110011111110001101000110011010101111101101000101111101110110101011001011011111101100010011111110001101001100011001111001010100111111001111001100010100100111111110110001001111110000100111001000111110100111010011101101101110101011101101010110010111011100100011000100010111111011011101010111111010110011000111001010010001111001100001010101001101001111110001011000011111000101100011001111101110100101110110000010010010010010101011110101111110111100000110101001111000001110101011110101111100100001001010101000111001101001111101011110011110011000011101010100110110100111111000010111101111111010010001001000100100100100101010111101000011110010101011001100011111010010011000001001010010101111101101001010101011010111001101101001110000110100100100110011110111100001100110001110010001100010101010001001010011001101011110010011101000101111100110001001101011110010101011001100011111000101011011010011111111010011111000001111111000001011110110001100010111101111000011001100011110011010000000100101001100111110110001001001110100010111111101000111001111110010101001111110001000011001100011100010110001100010111001001011101000001101111101010111001101111010001100110101011110101111011011101001100110110101111001010100111111101110101100110001001111101010101011110101111110001000100111110111010110011000100110011111001000000011111000110100011001101010111101011110110111010011001101101011110010101001111111011101011001100010011111010101010111101011111010110011000111011010001011111011101110011010111110001000100111110110001010000111010101111010111111011101001011110010010101100111100110000101011111001000000011101101101000110011010011110111110000101111011111001000000011101101101001101001010000111010101100101110111000100001100110001111000000101101111110101100110001111100010101101101001111110010100000100111111011110000110011000111001010010011001101111010111110111100001100110001110101000011111100001011110111111000010011101110110010101100110000110100101010100111111101101001111111100010100110010011110100001110100011111100100010111111001100010011010111011010010101010111111000000010111101111100111100001110110000101100110110010100100111111011000100110110101011001011011111101101110000100101111000000101101111110101100110001111001010101100110001111101101001111111001000010010101010010111010011100101001001101101010111101011111100000110111111001010100111111110110000011111001100011100101001010100011100110100011111011010011100010010011001111100001011110111111001000001011110111111011101011001100010011111100100001101111001100011100101001010000101010100101011101000111111100011101000101111101101011101101000001011110111101000011111011000100110011111101011001100011110111010110011000100111111001001010000111111100101010100111110011000100000111010100101110011110011000110001010101000110011111001000000011100110001001010010101111101101101110001000011001100001011010111111000100010011111101011001100011110111010110011000100111111100010101010001100111101000011111011000100110011111101011001100011101001110110100101011101101011010111111000100010011111110111010010111110001010011001001111110101001011110101011101101001110011100110101011111001000000000110001100101001001010111000001011001011001001111010111100111100110000001000011100010110001100010111110001101001110110100101011001101101001110001001001100111110000101111011111001100011001001010111101011110000101111011111100110000111101110101100110001001111110010010100001111111010101111111000111000001111001101010111110110100111000110010010101100101110'"
      ]
     },
     "execution_count": 14,
     "metadata": {},
     "output_type": "execute_result"
    }
   ],
   "source": [
    "%%time\n",
    "huffman_encode(huffman_code(Goethe),Goethe)"
   ]
  },
  {
   "cell_type": "code",
   "execution_count": 15,
   "metadata": {},
   "outputs": [
    {
     "name": "stdout",
     "output_type": "stream",
     "text": [
      "CPU times: user 4.91 ms, sys: 550 µs, total: 5.46 ms\n",
      "Wall time: 5.07 ms\n"
     ]
    },
    {
     "data": {
      "text/plain": [
       "'habe nun, ach! philosophie, juristerei und medizin, und leider auch theologie durchaus studiert, mit heissem bemühn. da steh ich nun, ich armer tor! und bin so klug als wie zuvor; heisse magister, heisse doktor gar und ziehe schon an die zehen jahr herauf, herab und quer und krumm meine schüler an der nase herum und sehe, dass wir nichts wissen können! das will mir schier das herz verbrennen. zwar bin ich gescheiter als all die laffen, doktoren, magister, schreiber und pfaffen; mich plagen keine skrupel noch zweifel, fürchte mich weder vor hölle noch teufel dafür ist mir auch alle freud entrissen, bilde mir nicht ein, was rechts zu wissen, bilde mir nicht ein, ich könnte was lehren, die menschen zu bessern und zu bekehren. auch hab ich weder gut noch geld, noch ehr und herrlichkeit der welt; es möchte kein hund so länger leben! drum hab ich mich der magie ergeben, ob mir durch geistes kraft und mund nicht manch geheimnis würde kund; dass ich nicht mehr mit saurem schweiss zu sagen brauche, was ich nicht weiss; dass ich erkenne, was die welt im innersten zusammenhält, schau alle wirkenskraft und samen, und tu nicht mehr in worten kramen.'"
      ]
     },
     "execution_count": 15,
     "metadata": {},
     "output_type": "execute_result"
    }
   ],
   "source": [
    "%%time\n",
    "huffman_decode(huffman_code(Goethe),huffman_encode(huffman_code(Goethe),Goethe))"
   ]
  },
  {
   "cell_type": "markdown",
   "metadata": {},
   "source": [
    "**END**"
   ]
  }
 ],
 "metadata": {
  "kernelspec": {
   "display_name": "Python 3",
   "language": "python",
   "name": "python3"
  },
  "language_info": {
   "codemirror_mode": {
    "name": "ipython",
    "version": 3
   },
   "file_extension": ".py",
   "mimetype": "text/x-python",
   "name": "python",
   "nbconvert_exporter": "python",
   "pygments_lexer": "ipython3",
   "version": "3.6.5"
  },
  "toc": {
   "base_numbering": 1,
   "nav_menu": {},
   "number_sections": false,
   "sideBar": true,
   "skip_h1_title": true,
   "title_cell": "Table of Contents",
   "title_sidebar": "Contents",
   "toc_cell": true,
   "toc_position": {},
   "toc_section_display": true,
   "toc_window_display": true
  },
  "varInspector": {
   "cols": {
    "lenName": 16,
    "lenType": 16,
    "lenVar": 40
   },
   "kernels_config": {
    "python": {
     "delete_cmd_postfix": "",
     "delete_cmd_prefix": "del ",
     "library": "var_list.py",
     "varRefreshCmd": "print(var_dic_list())"
    },
    "r": {
     "delete_cmd_postfix": ") ",
     "delete_cmd_prefix": "rm(",
     "library": "var_list.r",
     "varRefreshCmd": "cat(var_dic_list()) "
    }
   },
   "types_to_exclude": [
    "module",
    "function",
    "builtin_function_or_method",
    "instance",
    "_Feature"
   ],
   "window_display": false
  }
 },
 "nbformat": 4,
 "nbformat_minor": 2
}
